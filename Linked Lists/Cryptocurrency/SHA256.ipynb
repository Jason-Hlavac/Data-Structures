try:
    from ipynb.fs.full.constant import H, K
    import copy
except:
    from constant.py import H, K

def SHA256(inputString):
    hashValues = copy.copy(H)
    roundValues = copy.copy(K)
    inputBinary = "".join(format(ord(i), "08b") for i in inputString)
    bigEndian = "{0:64b}".format(len(inputBinary))
    inputBinary += "1"
    
    while((len(inputBinary)+64) % 512 != 0):
        inputBinary += "0"
    inputBinary += bigEndian
    #Multitple of 512 bit string
    for i in range(int(len(inputBinary)/512)):
        arr = []
        for j in range(16):

            arr.append(inputBinary[i *32 : i*32 + 32])
        for k in range(48):
            arr.append( str("0" * 32))
        #Array of 64, 32 bit strings
        for i in range(16, 63):
            s0 = RightRotate(arr[i-15], 7)
            s1 = RightRotate(arr[i-2], 17)
            arr[i] = ModularAddition(ModularAddition(arr[i-16], s0, 32), ModularAddition(arr[i-7], s1, 32) ,32)
        a = "{0:32b}".format(int(hashValues[0], 16))
        b = "{0:32b}".format(int(hashValues[1], 16))
        c = "{0:32b}".format(int(hashValues[2], 16))
        d = "{0:32b}".format(int(hashValues[3], 16))
        e = "{0:32b}".format(int(hashValues[4], 16))
        f = "{0:32b}".format(int(hashValues[5], 16))
        g = "{0:32b}".format(int(hashValues[6], 16))
        h = "{0:32b}".format(int(hashValues[7], 16))
        for i in range(63):
            s1 = RightRotate(e, 6)
            ch = int(e) ^ int(f)
            temp1 = ModularAddition(ModularAddition(ModularAddition(h, s1, 32), ModularAddition(ch, roundValues[i], 32), 32), arr[i], 32)
            s0 = RightRotate(a, 2)
            maj = int(a) ^ int(b)
            temp2 = ModularAddition(s0, maj, 32)
            h = copy.copy(g)
            g = copy.copy(f)
            f = copy.copy(e)
            e = ModularAddition(s0, temp1, 32)
            d = copy.copy(c)
            c = copy.copy(b)
            b = copy.copy(a)
            a = ModularAddition(temp1, temp2, 32)
        
        hashValues[0] = hex(BinaryToDecimal(int(ModularAddition(bin(int(hashValues[0], 16)), a, 32))))
        hashValues[1] = hex(BinaryToDecimal(int(ModularAddition(bin(int(hashValues[1], 16)), b, 32))))
        hashValues[2] = hex(BinaryToDecimal(int(ModularAddition(bin(int(hashValues[2], 16)), c, 32))))
        hashValues[3] = hex(BinaryToDecimal(int(ModularAddition(bin(int(hashValues[3], 16)), d, 32))))
        hashValues[4] = hex(BinaryToDecimal(int(ModularAddition(bin(int(hashValues[4], 16)), e, 32))))
        hashValues[5] = hex(BinaryToDecimal(int(ModularAddition(bin(int(hashValues[5], 16)), f, 32))))
        hashValues[6] = hex(BinaryToDecimal(int(ModularAddition(bin(int(hashValues[6], 16)), g, 32))))
        hashValues[7] = hex(BinaryToDecimal(int(ModularAddition(bin(int(hashValues[7], 16)), h, 32))))
        for i in range(len(H)):
            hashValues[i] = str(hashValues[i]).replace("0x", "")
            
    return("".join(hashValues))

            
def RightRotate(string, times):
    string = str(string)
    newString = string[len(string)-times : len(string)-1] + string[0 : len(string)-(times+1)]
    return(newString)

def BinaryToDecimal(binaryString):
    decimal = 0
    binaryString = str(binaryString)
    for i in range(len(binaryString)):
        if(binaryString[len(binaryString)- (1+i)] == "1" or binaryString[len(binaryString)- (1+i)] == "0" ):
            decimal += int(binaryString[len(binaryString)-(1+i)]) * (2 ** i)
    return int(decimal)

def ModularAddition(binaryString1, binaryString2, maxLength):
    binaryString1, binaryString2 = str(binaryString1).replace("0b", ""), str(binaryString2).replace("0b", "")
    result = BinaryToDecimal(binaryString1) + BinaryToDecimal(binaryString2)
    if(result > 2**maxLength):
        subtract = 2 ** maxLength
        result = "{0:{1:}b}".format(result-subtract, maxLength)
    else:
        result = "{0:{1:}b}".format(result, maxLength)
    return(result)
    
