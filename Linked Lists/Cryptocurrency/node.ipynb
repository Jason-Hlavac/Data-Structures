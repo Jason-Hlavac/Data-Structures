import websockets
import asyncio

    
class node(object):
    def __init__(self, maxpeers, serverport, myid):
        self.maxpeers = int(maxpeers)
        self.serverport = int(serverport)
        self.myid = myid
        self.peers = []
        self.listener = socket.socket(socket.AF_INET, socket.SOCK_STREAM)
    
    async def listen(self):
        self.listener.bind("", 7777)
        recieved = await(listener.recv())
        self.process(recieved)
        
    def process(self, data):
        if(data[2] not in self.peers):
            self.peers.append()
            self.queryBlock(data[2])
        if(data[0] == 0):
            if(data[1] not in self.peers):
                self.peers.append(data[1])
                self.queryBlock(data[1])
        if(data[0] == 1):
            BC.replaceChain(data[1])
        if(data[0] == 2):
            if(validate(data[1]), BC.chain[BC.currentIndex]):
                BC.chain.append(data[1])
        if(data[0] == 3):
            createSendSocket(data[2]).send(self.constructData(1, BC.chain))
        if(data[0] == 4):
            createSendSocket(data[2]).send(self.constructData(2, BC.chain[BC.currentIndex]))
            
    
    async def queryChain(self, ip):
        sock = createSendSocket(ip)
        sock.send(constructData(3, " "))
        info = await(sock.recv())
        BC.replaceChain(info[1])
        
    async def queryBlock(self, ip):
        sock = createSendSocket(ip)
        sock.send(constructData(2, " "))
        info = await(sock.recv())
        if(validate(data[1]), BC.chain[BC.currentIndex]):
            BC.chain.append(data[1])
        self.queryChain(ip)
        
    def constructData(self, form, data):
        r = [int(form), data, self.myid]
        return r
    
    def createSendSocket(ip):
        send = socket.socket(socket.AF_INET, socket.SOCK_STREAM)
        send.bind(ip, 7777)
        return send
    
    async def broadcast(self, form, data):
        data = self.constructData(form, data)
        for i in range(len(self.peers)):
            sock = createSendSocket(self.peers[i])
            sock.send(data)
            recieved = await(sock.recv())
            self.process(recieved)
