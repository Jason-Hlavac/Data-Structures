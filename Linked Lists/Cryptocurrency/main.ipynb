import datetime

try:
    from ipynb.fs.full.BlockChain import *
except:
    from BlockChain.py import *
    
try:
    from ipynb.fs.full.node import *
except:
    from node.py import *

    
def main():
    GenesisBlock = Block(0 , "Genesis", datetime.datetime.utcnow() , None, 2)
    BC = BlockChain(GenesisBlock, 50, 1)

    
if __name__ == "__main__":
    main()
